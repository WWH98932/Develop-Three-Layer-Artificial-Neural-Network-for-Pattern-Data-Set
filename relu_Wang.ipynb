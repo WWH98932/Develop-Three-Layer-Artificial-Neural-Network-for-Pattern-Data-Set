{
 "cells": [
  {
   "cell_type": "code",
   "execution_count": 7,
   "metadata": {},
   "outputs": [
    {
     "name": "stdout",
     "output_type": "stream",
     "text": [
      "b2 = -0.19474271702955998\n",
      "W2 =  [[ 0.46481367  0.59191156  1.00000419  1.00000419]]\n",
      "b1 = -0.34422516710405987\n",
      "W1 =  [[ 0.62759178 -0.23824469]\n",
      " [-0.15219613  0.09509001]\n",
      " [-0.00290131 -0.01961629]\n",
      " [-0.00290131 -0.01961629]]\n",
      "Cost sample = [1.5381254867704481, 0.69502701730107086, 0.68540314917230827, 0.68413490885128136, 0.68352961474218266, 0.68311745605977492, 0.68283776757242853, 0.6826450261226934, 0.68244087021901245, 0.68224598858375385]\n"
     ]
    }
   ],
   "source": [
    "import numpy as np\n",
    "\n",
    "# Define activation functions and its devirative\n",
    "# Identity\n",
    "def identity(yhat):\n",
    "    return yhat\n",
    "# Sigmoid\n",
    "def activation(yhat):\n",
    "    return 1 / (1 + np.exp(-yhat))\n",
    "# ReLU\n",
    "def relu(yhat):\n",
    "    return abs(yhat) * (yhat >= 0)\n",
    "#    return 0 * (yhat < 0)\n",
    "def d_relu(yhat):\n",
    "    return 1 * (yhat >= 0)\n",
    "#    return 0 * (x < 0)\n",
    "\n",
    "# Compute cost function\n",
    "h = 1000\n",
    "alpha = 0.05\n",
    "J = np.zeros([1, h])\n",
    "cost_sample = []\n",
    "cost = []\n",
    "\n",
    "data = np.loadtxt(\"pattern_rand.csv\", delimiter=\",\", skiprows=1)\n",
    "X_train = data[0:320, 0:2].T\n",
    "X_test = data[320:, 0:2].T\n",
    "Y_train = data[0:320, 2:].T\n",
    "Y_test = data[320:, 2:].T\n",
    "\n",
    "# Train set\n",
    "X0 = X_train\n",
    "Y = Y_train\n",
    "# Initialization\n",
    "n = 2\n",
    "m = X0.shape[1]\n",
    "G0 = np.zeros([n, m])\n",
    "G1 = np.zeros([4, m])\n",
    "G2 = np.zeros([1, m])\n",
    "dGdW1 = np.zeros([1, m])\n",
    "dJdW1 = np.zeros([1, n])\n",
    "dJdb1 = 0\n",
    "dGdW2 = np.zeros([1, m])\n",
    "dJdW2 = np.zeros([1, n])\n",
    "dJdb2 = 0\n",
    "# Model Parameters\n",
    "b0 = 0\n",
    "b1 = 0\n",
    "b2 = 1\n",
    "W0 = np.eye(2)\n",
    "W1_1 = np.eye(2)\n",
    "W1_2 = np.zeros([2, 2])\n",
    "W1 = np.vstack([W1_1, W1_2])\n",
    "W2 = np.full([1, 4], 1)\n",
    "# Initialization of X, H, B and Yhat\n",
    "H0 = np.zeros([n, m])\n",
    "H1 = np.zeros([4, m])\n",
    "H2 = np.zeros([1, m])\n",
    "X1 = np.zeros([n, m])\n",
    "X2 = np.zeros([4, m])\n",
    "Yhat = np.zeros([1, m])\n",
    "B0 = np.ones([n, 1])\n",
    "B1 = np.ones([4, 1])\n",
    "B2 = np.ones([1, 1])\n",
    "\n",
    "# Loop\n",
    "for g in range(h):\n",
    "    # layer 0\n",
    "    G0 = np.dot(W0, X0) + b0 * B0\n",
    "    H0 = identity(G0)\n",
    "    # layer 1\n",
    "    X1 = H0\n",
    "    G1 = np.dot(W1, X1) + b1 * B1\n",
    "    H1 = relu(G1)\n",
    "    # layer 2\n",
    "    X2 = H1\n",
    "    G2 = np.dot(W2, X2) + b2 * B2\n",
    "    H2 = activation(G2)\n",
    "    # Cost function\n",
    "    Yhat = H2\n",
    "    J[0, g] = (-1 / m) * np.sum((Y * np.log(Yhat)) + (1 - Y) * np.log(1 - Yhat))\n",
    "    # Update W2\n",
    "    dGdW2 = Y - Yhat\n",
    "    dJdb2 = (-1 / m) * np.sum(dGdW2)\n",
    "    dJdW2 = (-1 / m) * np.dot(dGdW2, X2.T)\n",
    "    b2 = b2 - alpha * dJdb2\n",
    "    W2 = W2 - alpha * dJdW2\n",
    "    # Update W1\n",
    "    dGdW1 = np.dot(W2.T, dGdW2) * d_relu(G1)\n",
    "    dJdb1 = (-1 / m) * np.sum(dGdW1)\n",
    "    dJdW1 = (-1 / m) * np.dot(dGdW1, X1.T)\n",
    "    b1 = b1 - alpha * dJdb1\n",
    "    W1 = W1 - alpha * dJdW1\n",
    "    # Record cost function\n",
    "    if g % 100 == 0:\n",
    "        cost_sample.append(J[0, g])\n",
    "    cost.append(J[0, g])\n",
    "        \n",
    "    for i in range(m):\n",
    "        if Yhat[0, i] > 0.5:\n",
    "            Yhat[0, i] = 1\n",
    "        else:\n",
    "            Yhat[0, i] = 0\n",
    "        \n",
    "print(\"b2 = {}\".format(b2))\n",
    "print(\"W2 = \", W2)\n",
    "print(\"b1 = {}\".format(b1))\n",
    "print(\"W1 = \", W1)\n",
    "print(\"Cost sample = {}\".format(cost_sample))"
   ]
  },
  {
   "cell_type": "code",
   "execution_count": 8,
   "metadata": {},
   "outputs": [
    {
     "name": "stdout",
     "output_type": "stream",
     "text": [
      "The accuracy of Train set is 0.603125\n"
     ]
    }
   ],
   "source": [
    "a = 0\n",
    "for i in range(m):\n",
    "    if Yhat[0, i] == Y_train[0, i]:\n",
    "        a += 1\n",
    "print(\"The accuracy of Train set is {}\".format(a / m))"
   ]
  },
  {
   "cell_type": "code",
   "execution_count": 9,
   "metadata": {},
   "outputs": [
    {
     "data": {
      "image/png": "[encoded data removed]",
      "text/plain": [
       "<matplotlib.figure.Figure at 0x21360a88080>"
      ]
     },
     "metadata": {},
     "output_type": "display_data"
    }
   ],
   "source": [
    "import matplotlib.pyplot as plt\n",
    "%matplotlib inline\n",
    "fig,ax = plt.subplots()\n",
    "\n",
    "plt.plot(cost)\n",
    "plt.legend(bbox_to_anchor=(1.0, 1), loc=1, borderaxespad=0.)\n",
    "plt.show()"
   ]
  },
  {
   "cell_type": "code",
   "execution_count": 16,
   "metadata": {},
   "outputs": [
    {
     "name": "stdout",
     "output_type": "stream",
     "text": [
      "Jcost = 0.6983269611813547\n"
     ]
    }
   ],
   "source": [
    "# Test set\n",
    "X0 = X_test\n",
    "Y = Y_test\n",
    "# Initialization\n",
    "n = 2\n",
    "m = X0.shape[1]\n",
    "G0 = np.zeros([n, m])\n",
    "G1 = np.zeros([4, m])\n",
    "G2 = np.zeros([1, m])\n",
    "dGdW1 = np.zeros([1, m])\n",
    "dJdW1 = np.zeros([1, n])\n",
    "dJdb1 = 0\n",
    "dGdW2 = np.zeros([1, m])\n",
    "dJdW2 = np.zeros([1, n])\n",
    "dJdb2 = 0\n",
    "# Model Parameters\n",
    "b0 = 0\n",
    "b1 = 0\n",
    "b2 = 1\n",
    "W0 = np.eye(2)\n",
    "W1_1 = np.eye(2)\n",
    "W1_2 = np.zeros([2, 2])\n",
    "W1 = np.vstack([W1_1, W1_2])\n",
    "W2 = np.full([1, 4], 1)\n",
    "# Initialization of X, H, B and Yhat\n",
    "H0 = np.zeros([n, m])\n",
    "H1 = np.zeros([4, m])\n",
    "H2 = np.zeros([1, m])\n",
    "X1 = np.zeros([n, m])\n",
    "X2 = np.zeros([4, m])\n",
    "Yhat = np.zeros([1, m])\n",
    "B0 = np.ones([n, 1])\n",
    "B1 = np.ones([4, 1])\n",
    "B2 = np.ones([1, 1])\n",
    "\n",
    "# Loop\n",
    "for g in range(h):\n",
    "    # layer 0\n",
    "    G0 = np.dot(W0, X0) + b0 * B0\n",
    "    H0 = identity(G0)\n",
    "    # layer 1\n",
    "    X1 = H0\n",
    "    G1 = np.dot(W1, X1) + b1 * B1\n",
    "    H1 = relu(G1)\n",
    "    # layer 2\n",
    "    X2 = H1\n",
    "    G2 = np.dot(W2, X2) + b2 * B2\n",
    "    H2 = activation(G2)\n",
    "    # Cost function\n",
    "    Yhat = H2\n",
    "    J[0, g] = (-1 / m) * np.sum((Y * np.log(Yhat)) + (1 - Y) * np.log(1 - Yhat))\n",
    "    # Update W2\n",
    "    dGdW2 = Y - Yhat\n",
    "    dJdb2 = (-1 / m) * np.sum(dGdW2)\n",
    "    dJdW2 = (-1 / m) * np.dot(dGdW2, X2.T)\n",
    "    b2 = -0.19474271702955998\n",
    "    W2 = np.array([[0.46481367, 0.59191156, 1.00000419, 1.00000419]])\n",
    "    # Update W1\n",
    "    dGdW1 = np.dot(W2.T, dGdW2) * d_relu(G1)\n",
    "    dJdb1 = (-1 / m) * np.sum(dGdW1)\n",
    "    dJdW1 = (-1 / m) * np.dot(dGdW1, X1.T)\n",
    "    b1 = -0.34422516710405987\n",
    "    W1 = np.array([[0.62759178, -0.23824469], [-0.15219613, 0.09509001], [-0.00290131, -0.01961629], [-0.00290131, -0.01961629]])\n",
    "        \n",
    "    for i in range(m):\n",
    "        if Yhat[0, i] > 0.5:\n",
    "            Yhat[0, i] = 1\n",
    "        else:\n",
    "            Yhat[0, i] = 0\n",
    "        \n",
    "print(\"Jcost = {}\".format(J[0, h-1]))"
   ]
  },
  {
   "cell_type": "code",
   "execution_count": 17,
   "metadata": {},
   "outputs": [
    {
     "name": "stdout",
     "output_type": "stream",
     "text": [
      "The accuracy of Test set is 0.55\n"
     ]
    }
   ],
   "source": [
    "a = 0\n",
    "for i in range(m):\n",
    "    if Yhat[0, i] == Y_test[0, i]:\n",
    "        a += 1\n",
    "print(\"The accuracy of Test set is {}\".format(a / m))"
   ]
  }
 ],
 "metadata": {
  "kernelspec": {
   "display_name": "Python 3",
   "language": "python",
   "name": "python3"
  },
  "language_info": {
   "codemirror_mode": {
    "name": "ipython",
    "version": 3
   },
   "file_extension": ".py",
   "mimetype": "text/x-python",
   "name": "python",
   "nbconvert_exporter": "python",
   "pygments_lexer": "ipython3",
   "version": "3.6.3"
  }
 },
 "nbformat": 4,
 "nbformat_minor": 2
}
