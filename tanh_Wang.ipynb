{
 "cells": [
  {
   "cell_type": "code",
   "execution_count": 2,
   "metadata": {},
   "outputs": [
    {
     "name": "stdout",
     "output_type": "stream",
     "text": [
      "b2 = -0.00581166716670278\n",
      "W2 =  [[ 2.32248823  2.59015526  1.19082565  1.19082565]]\n",
      "b1 = -0.014220290968512036\n",
      "W1 =  [[ 1.25069304 -1.36991328]\n",
      " [ 0.02705851  1.79566111]\n",
      " [-0.82429883 -0.80958968]\n",
      " [-0.82429883 -0.80958968]]\n",
      "Cost sample = [0.94049367702100017, 0.55412832076967966, 0.51164127191348718, 0.47270128683076734, 0.44149835388321129, 0.41933900093954907, 0.40337067405353805, 0.39129473700457446, 0.38177569447876508, 0.37403635152469966]\n"
     ]
    }
   ],
   "source": [
    "import numpy as np\n",
    "\n",
    "# Define activation functions and its devirative\n",
    "# Identity\n",
    "def identity(yhat):\n",
    "    return yhat\n",
    "# Sigmoid\n",
    "def activation(yhat):\n",
    "    return 1 / (1 + np.exp(-yhat))\n",
    "# TanH\n",
    "def tanh(yhat):\n",
    "    return (np.exp(yhat) - np.exp(-yhat)) / (np.exp(yhat) + np.exp(-yhat))\n",
    "def d_tanh(yhat):\n",
    "    return 1 - np.power(tanh(yhat), 2)\n",
    "\n",
    "# Compute cost function\n",
    "h = 1000\n",
    "alpha = 0.05\n",
    "J = np.zeros([1, h])\n",
    "cost_sample = []\n",
    "cost = []\n",
    "\n",
    "data = np.loadtxt(\"pattern_rand.csv\", delimiter=\",\", skiprows=1)\n",
    "X_train = data[0:320, 0:2].T\n",
    "X_test = data[320:, 0:2].T\n",
    "Y_train = data[0:320, 2:].T\n",
    "Y_test = data[320:, 2:].T\n",
    "\n",
    "# Train set\n",
    "X0 = X_train\n",
    "Y = Y_train\n",
    "# Initialization\n",
    "n = 2\n",
    "m = X0.shape[1]\n",
    "G0 = np.zeros([n, m])\n",
    "G1 = np.zeros([4, m])\n",
    "G2 = np.zeros([1, m])\n",
    "dGdW1 = np.zeros([1, m])\n",
    "dJdW1 = np.zeros([1, n])\n",
    "dJdb1 = 0\n",
    "dGdW2 = np.zeros([1, m])\n",
    "dJdW2 = np.zeros([1, n])\n",
    "dJdb2 = 0\n",
    "# Model Parameters\n",
    "b0 = 0\n",
    "b1 = 0\n",
    "b2 = 1\n",
    "W0 = np.eye(2)\n",
    "W1_1 = np.eye(2)\n",
    "W1_2 = np.zeros([2, 2])\n",
    "W1 = np.vstack([W1_1, W1_2])\n",
    "W2 = np.full([1, 4], 1)\n",
    "# Initialization of X, H, B and Yhat\n",
    "H0 = np.zeros([n, m])\n",
    "H1 = np.zeros([4, m])\n",
    "H2 = np.zeros([1, m])\n",
    "X1 = np.zeros([n, m])\n",
    "X2 = np.zeros([4, m])\n",
    "Yhat = np.zeros([1, m])\n",
    "B0 = np.ones([n, 1])\n",
    "B1 = np.ones([4, 1])\n",
    "B2 = np.ones([1, 1])\n",
    "\n",
    "# Loop\n",
    "for g in range(h):\n",
    "    # layer 0\n",
    "    G0 = np.dot(W0, X0) + b0 * B0\n",
    "    H0 = identity(G0)\n",
    "    # layer 1\n",
    "    X1 = H0\n",
    "    G1 = np.dot(W1, X1) + b1 * B1\n",
    "    H1 = tanh(G1)\n",
    "    # layer 2\n",
    "    X2 = H1\n",
    "    G2 = np.dot(W2, X2) + b2 * B2\n",
    "    H2 = activation(G2)\n",
    "    # Cost function\n",
    "    Yhat = H2\n",
    "    J[0, g] = (-1 / m) * np.sum((Y * np.log(Yhat)) + (1 - Y) * np.log(1 - Yhat))\n",
    "    # Update W2\n",
    "    dGdW2 = Y - Yhat\n",
    "    dJdb2 = (-1 / m) * np.sum(dGdW2)\n",
    "    dJdW2 = (-1 / m) * np.dot(dGdW2, X2.T)\n",
    "    b2 = b2 - alpha * dJdb2\n",
    "    W2 = W2 - alpha * dJdW2\n",
    "    # Update W1\n",
    "    dGdW1 = np.dot(W2.T, dGdW2) * d_tanh(G1)\n",
    "    dJdb1 = (-1 / m) * np.sum(dGdW1)\n",
    "    dJdW1 = (-1 / m) * np.dot(dGdW1, X1.T)\n",
    "    b1 = b1 - alpha * dJdb1\n",
    "    W1 = W1 - alpha * dJdW1\n",
    "    # Record cost function\n",
    "    if g % 100 == 0:\n",
    "        cost_sample.append(J[0, g])\n",
    "    cost.append(J[0, g])\n",
    "        \n",
    "    for i in range(m):\n",
    "        if Yhat[0, i] > 0.5:\n",
    "            Yhat[0, i] = 1\n",
    "        else:\n",
    "            Yhat[0, i] = 0\n",
    "        \n",
    "print(\"b2 = {}\".format(b2))\n",
    "print(\"W2 = \", W2)\n",
    "print(\"b1 = {}\".format(b1))\n",
    "print(\"W1 = \", W1)\n",
    "print(\"Cost sample = {}\".format(cost_sample))"
   ]
  },
  {
   "cell_type": "code",
   "execution_count": 3,
   "metadata": {},
   "outputs": [
    {
     "name": "stdout",
     "output_type": "stream",
     "text": [
      "The accuracy of Train set is 0.865625\n"
     ]
    }
   ],
   "source": [
    "a = 0\n",
    "for i in range(m):\n",
    "    if Yhat[0, i] == Y_train[0, i]:\n",
    "        a += 1\n",
    "print(\"The accuracy of Train set is {}\".format(a / m))"
   ]
  },
  {
   "cell_type": "code",
   "execution_count": 4,
   "metadata": {},
   "outputs": [
    {
     "data": {
      "image/png": "[encoded data removed]",
      "text/plain": [
       "<matplotlib.figure.Figure at 0x1ed71ee8c50>"
      ]
     },
     "metadata": {},
     "output_type": "display_data"
    }
   ],
   "source": [
    "import matplotlib.pyplot as plt\n",
    "%matplotlib inline\n",
    "fig,ax = plt.subplots()  \n",
    "\n",
    "plt.plot(cost)  \n",
    "plt.legend(bbox_to_anchor=(1.0, 1), loc=1, borderaxespad=0.)\n",
    "plt.show()"
   ]
  },
  {
   "cell_type": "code",
   "execution_count": 11,
   "metadata": {},
   "outputs": [
    {
     "name": "stdout",
     "output_type": "stream",
     "text": [
      "Jcost = 0.4750981424979685\n"
     ]
    }
   ],
   "source": [
    "# Test set\n",
    "X0 = X_test\n",
    "Y = Y_test\n",
    "# Initialization\n",
    "n = 2\n",
    "m = X0.shape[1]\n",
    "G0 = np.zeros([n, m])\n",
    "G1 = np.zeros([4, m])\n",
    "G2 = np.zeros([1, m])\n",
    "dGdW1 = np.zeros([1, m])\n",
    "dJdW1 = np.zeros([1, n])\n",
    "dJdb1 = 0\n",
    "dGdW2 = np.zeros([1, m])\n",
    "dJdW2 = np.zeros([1, n])\n",
    "dJdb2 = 0\n",
    "# Model Parameters\n",
    "b0 = 0\n",
    "b1 = 0\n",
    "b2 = 1\n",
    "W0 = np.eye(2)\n",
    "W1_1 = np.eye(2)\n",
    "W1_2 = np.zeros([2, 2])\n",
    "W1 = np.vstack([W1_1, W1_2])\n",
    "W2 = np.full([1, 4], 1)\n",
    "# Initialization of X, H, B and Yhat\n",
    "H0 = np.zeros([n, m])\n",
    "H1 = np.zeros([4, m])\n",
    "H2 = np.zeros([1, m])\n",
    "X1 = np.zeros([n, m])\n",
    "X2 = np.zeros([4, m])\n",
    "Yhat = np.zeros([1, m])\n",
    "B0 = np.ones([n, 1])\n",
    "B1 = np.ones([4, 1])\n",
    "B2 = np.ones([1, 1])\n",
    "\n",
    "# Loop\n",
    "for g in range(h):\n",
    "    # layer 0\n",
    "    G0 = np.dot(W0, X0) + b0 * B0\n",
    "    H0 = identity(G0)\n",
    "    # layer 1\n",
    "    X1 = H0\n",
    "    G1 = np.dot(W1, X1) + b1 * B1\n",
    "    H1 = tanh(G1)\n",
    "    # layer 2\n",
    "    X2 = H1\n",
    "    G2 = np.dot(W2, X2) + b2 * B2\n",
    "    H2 = activation(G2)\n",
    "    # Cost function\n",
    "    Yhat = H2\n",
    "    J[0, g] = (-1 / m) * np.sum((Y * np.log(Yhat)) + (1 - Y) * np.log(1 - Yhat))\n",
    "    # Update W2\n",
    "    dGdW2 = Y - Yhat\n",
    "    dJdb2 = (-1 / m) * np.sum(dGdW2)\n",
    "    dJdW2 = (-1 / m) * np.dot(dGdW2, X2.T)\n",
    "    b2 = -0.00581166716670278\n",
    "    W2 = np.array([[2.32248823, 2.59015526, 1.19082565, 1.19082565]])\n",
    "    # Update W1\n",
    "    dGdW1 = np.dot(W2.T, dGdW2) * d_tanh(G1)\n",
    "    dJdb1 = (-1 / m) * np.sum(dGdW1)\n",
    "    dJdW1 = (-1 / m) * np.dot(dGdW1, X1.T)\n",
    "    b1 = -0.014220290968512036\n",
    "    W1 = np.array([[1.25069304, -1.36991328], [0.02705851, 1.79566111], [-0.82429883, -0.80958968], [-0.82429883, -0.80958968]])\n",
    "        \n",
    "    for i in range(m):\n",
    "        if Yhat[0, i] > 0.5:\n",
    "            Yhat[0, i] = 1\n",
    "        else:\n",
    "            Yhat[0, i] = 0\n",
    "        \n",
    "print(\"Jcost = {}\".format(J[0, h-1]))"
   ]
  },
  {
   "cell_type": "code",
   "execution_count": 12,
   "metadata": {},
   "outputs": [
    {
     "name": "stdout",
     "output_type": "stream",
     "text": [
      "The accuracy of Test set is 0.8\n"
     ]
    }
   ],
   "source": [
    "a = 0\n",
    "for i in range(m):\n",
    "    if Yhat[0, i] == Y_test[0, i]:\n",
    "        a += 1\n",
    "print(\"The accuracy of Test set is {}\".format(a / m))"
   ]
  }
 ],
 "metadata": {
  "kernelspec": {
   "display_name": "Python 3",
   "language": "python",
   "name": "python3"
  },
  "language_info": {
   "codemirror_mode": {
    "name": "ipython",
    "version": 3
   },
   "file_extension": ".py",
   "mimetype": "text/x-python",
   "name": "python",
   "nbconvert_exporter": "python",
   "pygments_lexer": "ipython3",
   "version": "3.6.3"
  }
 },
 "nbformat": 4,
 "nbformat_minor": 2
}
